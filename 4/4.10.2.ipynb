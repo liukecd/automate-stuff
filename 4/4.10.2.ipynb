{
 "cells": [
  {
   "cell_type": "markdown",
   "metadata": {},
   "source": [
    "# 字符图网格"
   ]
  },
  {
   "cell_type": "code",
   "execution_count": 10,
   "metadata": {
    "collapsed": true
   },
   "outputs": [],
   "source": [
    "grid = [['.', '.', '.', '.', '.', '.', ],\n",
    "        ['.', '0', '0', '.', '.', '.', ],\n",
    "        ['0', '0', '0', '0', '.', '.', ],\n",
    "        ['0', '0', '0', '0', '0', '.', ],\n",
    "        ['.', '0', '0', '0', '0', '0', ],\n",
    "        ['0', '0', '0', '0', '0', '.', ],\n",
    "        ['0', '0', '0', '0', '.', '.', ],\n",
    "        ['.', '0', '0', '.', '.', '.', ],\n",
    "        ['.', '.', '.', '.', '.', '.', ],]"
   ]
  },
  {
   "cell_type": "code",
   "execution_count": 11,
   "metadata": {
    "collapsed": false
   },
   "outputs": [
    {
     "name": "stdout",
     "output_type": "stream",
     "text": [
      "..00.00..\n",
      ".0000000.\n",
      ".0000000.\n",
      "..00000..\n",
      "...000...\n",
      "....0....\n"
     ]
    }
   ],
   "source": [
    "for col in range(len(grid[0])):\n",
    "    for row in range(len(grid)):\n",
    "        print(grid[row][col], end='')\n",
    "    print()"
   ]
  }
 ],
 "metadata": {
  "kernelspec": {
   "display_name": "Python 3",
   "language": "python",
   "name": "python3"
  },
  "language_info": {
   "codemirror_mode": {
    "name": "ipython",
    "version": 3
   },
   "file_extension": ".py",
   "mimetype": "text/x-python",
   "name": "python",
   "nbconvert_exporter": "python",
   "pygments_lexer": "ipython3",
   "version": "3.6.0"
  }
 },
 "nbformat": 4,
 "nbformat_minor": 2
}
